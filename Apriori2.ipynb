{
 "cells": [
  {
   "cell_type": "code",
   "execution_count": 1,
   "metadata": {},
   "outputs": [],
   "source": [
    "import numpy as np\n",
    "import pandas as pd"
   ]
  },
  {
   "cell_type": "code",
   "execution_count": 2,
   "metadata": {},
   "outputs": [],
   "source": [
    "data = {'TID':[100,200,300,400],\n",
    "       'Items':([1, 3, 4], [2, 3, 5],[1, 2, 3, 5], [2, 5])}"
   ]
  },
  {
   "cell_type": "code",
   "execution_count": 3,
   "metadata": {},
   "outputs": [
    {
     "data": {
      "text/html": [
       "<div>\n",
       "<style scoped>\n",
       "    .dataframe tbody tr th:only-of-type {\n",
       "        vertical-align: middle;\n",
       "    }\n",
       "\n",
       "    .dataframe tbody tr th {\n",
       "        vertical-align: top;\n",
       "    }\n",
       "\n",
       "    .dataframe thead th {\n",
       "        text-align: right;\n",
       "    }\n",
       "</style>\n",
       "<table border=\"1\" class=\"dataframe\">\n",
       "  <thead>\n",
       "    <tr style=\"text-align: right;\">\n",
       "      <th></th>\n",
       "      <th>TID</th>\n",
       "      <th>Items</th>\n",
       "    </tr>\n",
       "  </thead>\n",
       "  <tbody>\n",
       "    <tr>\n",
       "      <th>0</th>\n",
       "      <td>100</td>\n",
       "      <td>[1, 3, 4]</td>\n",
       "    </tr>\n",
       "    <tr>\n",
       "      <th>1</th>\n",
       "      <td>200</td>\n",
       "      <td>[2, 3, 5]</td>\n",
       "    </tr>\n",
       "    <tr>\n",
       "      <th>2</th>\n",
       "      <td>300</td>\n",
       "      <td>[1, 2, 3, 5]</td>\n",
       "    </tr>\n",
       "    <tr>\n",
       "      <th>3</th>\n",
       "      <td>400</td>\n",
       "      <td>[2, 5]</td>\n",
       "    </tr>\n",
       "  </tbody>\n",
       "</table>\n",
       "</div>"
      ],
      "text/plain": [
       "   TID         Items\n",
       "0  100     [1, 3, 4]\n",
       "1  200     [2, 3, 5]\n",
       "2  300  [1, 2, 3, 5]\n",
       "3  400        [2, 5]"
      ]
     },
     "execution_count": 3,
     "metadata": {},
     "output_type": "execute_result"
    }
   ],
   "source": [
    "df = pd.DataFrame(data)\n",
    "df"
   ]
  },
  {
   "cell_type": "code",
   "execution_count": 4,
   "metadata": {},
   "outputs": [],
   "source": [
    "records = []\n",
    "for i in range(0,4):\n",
    "    for j in range(1,2):\n",
    "        records.append(df.values[i,j])"
   ]
  },
  {
   "cell_type": "code",
   "execution_count": 5,
   "metadata": {},
   "outputs": [
    {
     "data": {
      "text/plain": [
       "[[1, 3, 4], [2, 3, 5], [1, 2, 3, 5], [2, 5]]"
      ]
     },
     "execution_count": 5,
     "metadata": {},
     "output_type": "execute_result"
    }
   ],
   "source": [
    "records"
   ]
  },
  {
   "cell_type": "code",
   "execution_count": null,
   "metadata": {},
   "outputs": [],
   "source": [
    "def count_item(records):\n",
    "    ls = []\n",
    "    for i in records:\n",
    "        for j in i:\n",
    "            if not [j] in ls:\n",
    "                ls.append([j])\n",
    "                \n",
    "    ls.sort()\n",
    "    return list(map(frozenset,ls))"
   ]
  },
  {
   "cell_type": "code",
   "execution_count": null,
   "metadata": {},
   "outputs": [],
   "source": [
    "ls = count_item(records)\n",
    "ls"
   ]
  },
  {
   "cell_type": "code",
   "execution_count": null,
   "metadata": {},
   "outputs": [],
   "source": [
    "def scan_Data_base(dataset,candidat_set,min_sport):\n",
    "    fre_item = {}\n",
    "    for i in dataset:\n",
    "        for j in candidat_set:\n",
    "            if j.issubset(i):\n",
    "                if not j in fre_item:\n",
    "                    fre_item[j] =1\n",
    "                else:\n",
    "                    fre_item[j] +=1\n",
    "    numItem = float(len(dataset))\n",
    "    \n",
    "    L1 = []\n",
    "    suport_Data = {}\n",
    "    for key in fre_item:\n",
    "        support = fre_item[key]/numItem\n",
    "        if support >= min_sport:\n",
    "            L1.insert(0,key)\n",
    "        suport_Data[key] = support\n",
    "    return L1, suport_Data"
   ]
  },
  {
   "cell_type": "code",
   "execution_count": null,
   "metadata": {},
   "outputs": [],
   "source": [
    "dataset = list(map(set,records))\n",
    "dataset"
   ]
  },
  {
   "cell_type": "code",
   "execution_count": null,
   "metadata": {},
   "outputs": [],
   "source": [
    "l , suport = scan_Data_base(dataset,ls,0.5)\n",
    "suport"
   ]
  },
  {
   "cell_type": "code",
   "execution_count": null,
   "metadata": {},
   "outputs": [],
   "source": [
    "def Aprior(fre_itemset,size_itemset):\n",
    "    result = []\n",
    "    len_fre_item = len(fre_itemset)\n",
    "    for i in range(len_fre_item):\n",
    "        for j in range(i+1,len_fre_item):\n",
    "            L1 = list(fre_itemset[i])[:i-2]\n",
    "            L2=  list(fre_itemset[j])[:i-2]\n",
    "            L1.sort()\n",
    "            L2.sort()\n",
    "            \n",
    "            if L1 == L2:\n",
    "                result.append(fre_itemset[i] | fre_itemset[j])\n",
    "    return result"
   ]
  },
  {
   "cell_type": "code",
   "execution_count": null,
   "metadata": {},
   "outputs": [],
   "source": [
    "Aprior(l,2)"
   ]
  },
  {
   "cell_type": "code",
   "execution_count": null,
   "metadata": {},
   "outputs": [],
   "source": [
    "def apriori(records,min_support):\n",
    "    ls = count_item(records)\n",
    "    database = list(map(set,records))\n",
    "    L1 , suport = scan_Data_base(dataset,ls,min_support)\n",
    "    L = [L1]\n",
    "    i =2\n",
    "    while (len(L[i-2])>0):\n",
    "        candidate_key = Aprior(L[i-2],2)\n",
    "        L_k , suport_k = scan_Data_base(dataset,ls,min_support)\n",
    "        suport.update(suport_k)\n",
    "        L.append(L_k)\n",
    "        i +=1\n",
    "    return L,suport"
   ]
  },
  {
   "cell_type": "code",
   "execution_count": null,
   "metadata": {},
   "outputs": [],
   "source": [
    "apriori(records,0.5)"
   ]
  },
  {
   "cell_type": "code",
   "execution_count": null,
   "metadata": {},
   "outputs": [],
   "source": []
  }
 ],
 "metadata": {
  "kernelspec": {
   "display_name": "Python 3",
   "language": "python",
   "name": "python3"
  },
  "language_info": {
   "codemirror_mode": {
    "name": "ipython",
    "version": 3
   },
   "file_extension": ".py",
   "mimetype": "text/x-python",
   "name": "python",
   "nbconvert_exporter": "python",
   "pygments_lexer": "ipython3",
   "version": "3.7.8"
  }
 },
 "nbformat": 4,
 "nbformat_minor": 4
}
