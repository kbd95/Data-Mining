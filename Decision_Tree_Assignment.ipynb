{
 "cells": [
  {
   "cell_type": "markdown",
   "metadata": {},
   "source": [
    "# Decision Tree "
   ]
  },
  {
   "cell_type": "code",
   "execution_count": 44,
   "metadata": {},
   "outputs": [],
   "source": [
    "import pandas as pd\n",
    "import numpy as np\n",
    "from math import log\n",
    "from anytree import Node, RenderTree\n",
    "import math"
   ]
  },
  {
   "cell_type": "code",
   "execution_count": 45,
   "metadata": {},
   "outputs": [
    {
     "data": {
      "text/html": [
       "<div>\n",
       "<style scoped>\n",
       "    .dataframe tbody tr th:only-of-type {\n",
       "        vertical-align: middle;\n",
       "    }\n",
       "\n",
       "    .dataframe tbody tr th {\n",
       "        vertical-align: top;\n",
       "    }\n",
       "\n",
       "    .dataframe thead th {\n",
       "        text-align: right;\n",
       "    }\n",
       "</style>\n",
       "<table border=\"1\" class=\"dataframe\">\n",
       "  <thead>\n",
       "    <tr style=\"text-align: right;\">\n",
       "      <th></th>\n",
       "      <th>outlook</th>\n",
       "      <th>temperature</th>\n",
       "      <th>humidity</th>\n",
       "      <th>windy</th>\n",
       "      <th>play</th>\n",
       "    </tr>\n",
       "  </thead>\n",
       "  <tbody>\n",
       "    <tr>\n",
       "      <th>0</th>\n",
       "      <td>overcast</td>\n",
       "      <td>hot</td>\n",
       "      <td>high</td>\n",
       "      <td>False</td>\n",
       "      <td>yes</td>\n",
       "    </tr>\n",
       "    <tr>\n",
       "      <th>1</th>\n",
       "      <td>overcast</td>\n",
       "      <td>cool</td>\n",
       "      <td>normal</td>\n",
       "      <td>True</td>\n",
       "      <td>yes</td>\n",
       "    </tr>\n",
       "    <tr>\n",
       "      <th>2</th>\n",
       "      <td>overcast</td>\n",
       "      <td>mild</td>\n",
       "      <td>high</td>\n",
       "      <td>True</td>\n",
       "      <td>yes</td>\n",
       "    </tr>\n",
       "    <tr>\n",
       "      <th>3</th>\n",
       "      <td>overcast</td>\n",
       "      <td>hot</td>\n",
       "      <td>normal</td>\n",
       "      <td>False</td>\n",
       "      <td>yes</td>\n",
       "    </tr>\n",
       "    <tr>\n",
       "      <th>4</th>\n",
       "      <td>rainy</td>\n",
       "      <td>mild</td>\n",
       "      <td>high</td>\n",
       "      <td>False</td>\n",
       "      <td>yes</td>\n",
       "    </tr>\n",
       "    <tr>\n",
       "      <th>5</th>\n",
       "      <td>rainy</td>\n",
       "      <td>cool</td>\n",
       "      <td>normal</td>\n",
       "      <td>False</td>\n",
       "      <td>yes</td>\n",
       "    </tr>\n",
       "    <tr>\n",
       "      <th>6</th>\n",
       "      <td>rainy</td>\n",
       "      <td>cool</td>\n",
       "      <td>normal</td>\n",
       "      <td>True</td>\n",
       "      <td>no</td>\n",
       "    </tr>\n",
       "    <tr>\n",
       "      <th>7</th>\n",
       "      <td>rainy</td>\n",
       "      <td>mild</td>\n",
       "      <td>normal</td>\n",
       "      <td>False</td>\n",
       "      <td>yes</td>\n",
       "    </tr>\n",
       "    <tr>\n",
       "      <th>8</th>\n",
       "      <td>rainy</td>\n",
       "      <td>mild</td>\n",
       "      <td>high</td>\n",
       "      <td>True</td>\n",
       "      <td>no</td>\n",
       "    </tr>\n",
       "    <tr>\n",
       "      <th>9</th>\n",
       "      <td>sunny</td>\n",
       "      <td>hot</td>\n",
       "      <td>high</td>\n",
       "      <td>False</td>\n",
       "      <td>no</td>\n",
       "    </tr>\n",
       "    <tr>\n",
       "      <th>10</th>\n",
       "      <td>sunny</td>\n",
       "      <td>hot</td>\n",
       "      <td>high</td>\n",
       "      <td>True</td>\n",
       "      <td>no</td>\n",
       "    </tr>\n",
       "    <tr>\n",
       "      <th>11</th>\n",
       "      <td>sunny</td>\n",
       "      <td>mild</td>\n",
       "      <td>high</td>\n",
       "      <td>False</td>\n",
       "      <td>no</td>\n",
       "    </tr>\n",
       "    <tr>\n",
       "      <th>12</th>\n",
       "      <td>sunny</td>\n",
       "      <td>cool</td>\n",
       "      <td>normal</td>\n",
       "      <td>False</td>\n",
       "      <td>yes</td>\n",
       "    </tr>\n",
       "    <tr>\n",
       "      <th>13</th>\n",
       "      <td>sunny</td>\n",
       "      <td>mild</td>\n",
       "      <td>normal</td>\n",
       "      <td>True</td>\n",
       "      <td>yes</td>\n",
       "    </tr>\n",
       "  </tbody>\n",
       "</table>\n",
       "</div>"
      ],
      "text/plain": [
       "     outlook temperature humidity  windy play\n",
       "0   overcast         hot     high  False  yes\n",
       "1   overcast        cool   normal   True  yes\n",
       "2   overcast        mild     high   True  yes\n",
       "3   overcast         hot   normal  False  yes\n",
       "4      rainy        mild     high  False  yes\n",
       "5      rainy        cool   normal  False  yes\n",
       "6      rainy        cool   normal   True   no\n",
       "7      rainy        mild   normal  False  yes\n",
       "8      rainy        mild     high   True   no\n",
       "9      sunny         hot     high  False   no\n",
       "10     sunny         hot     high   True   no\n",
       "11     sunny        mild     high  False   no\n",
       "12     sunny        cool   normal  False  yes\n",
       "13     sunny        mild   normal   True  yes"
      ]
     },
     "execution_count": 45,
     "metadata": {},
     "output_type": "execute_result"
    }
   ],
   "source": [
    "data = pd.read_csv(\"/home/ritesh/Documents/Data Mining/weather.csv\")\n",
    "data"
   ]
  },
  {
   "cell_type": "code",
   "execution_count": 46,
   "metadata": {},
   "outputs": [],
   "source": [
    "X = data.iloc[:, :-1]\n",
    "Y = data.iloc[:,-1]"
   ]
  },
  {
   "cell_type": "code",
   "execution_count": 47,
   "metadata": {},
   "outputs": [],
   "source": [
    "def fraction_data(data,labels):\n",
    "    fraction_class=[]\n",
    "    for i in data[labels].unique():\n",
    "        fraction_class.append((data[labels]==i).sum()/len(data))\n",
    "    return(fraction_class)"
   ]
  },
  {
   "cell_type": "code",
   "execution_count": 48,
   "metadata": {},
   "outputs": [],
   "source": [
    "def Entropy(data,labels):\n",
    "    fraction_class=fraction_data(data,labels)\n",
    "    entropy=0\n",
    "    total_count=len(data)\n",
    "    for i in fraction_class:\n",
    "        entropy=entropy-i*math.log2(i)\n",
    "    return(entropy)"
   ]
  },
  {
   "cell_type": "code",
   "execution_count": 49,
   "metadata": {},
   "outputs": [],
   "source": [
    "#entropy for a particular node\n",
    "\n",
    "def entropy(data,node_attribute,labels): \n",
    "    ent=[]\n",
    "    for i in data[node_attribute].unique():\n",
    "        part_data=data[data[node_attribute]==i]\n",
    "        ent.append(Entropy(part_data,labels))\n",
    "    return(ent)"
   ]
  },
  {
   "cell_type": "code",
   "execution_count": 50,
   "metadata": {},
   "outputs": [],
   "source": [
    "def gain(class_fraction,entropy_data,ent_arr):\n",
    "    return(entropy_data-np.dot(class_fraction,ent_arr))"
   ]
  },
  {
   "cell_type": "code",
   "execution_count": 51,
   "metadata": {},
   "outputs": [],
   "source": [
    "ls_decision_tree = []\n",
    "def decision_tree(data,labels):\n",
    "    gain_list={}\n",
    "    nodes = []\n",
    "    attr_list =list(data.columns)\n",
    "    attr_list.remove(labels)\n",
    "    entropy_data = Entropy(data,labels)\n",
    "    for i in attr_list:\n",
    "        entropy_arr=entropy(data,i,labels)\n",
    "        class_fraction=fraction_data(data,i)\n",
    "        gain_list[i]=gain(class_fraction,entropy_data,entropy_arr)\n",
    "    nodes.append(max(gain_list, key=gain_list.get))\n",
    "    splitpt = nodes[0]\n",
    "    ls_decision_tree.append(splitpt)\n",
    "    for j in data[splitpt].unique():\n",
    "        part_data = data[data[splitpt]==j]\n",
    "        ls_decision_tree.append(j)\n",
    "        if(len(part_data[labels].unique())>1):\n",
    "            part_data = part_data.drop(splitpt,axis=1)\n",
    "            decision_tree(part_data,labels)\n",
    "            \n",
    "        else:\n",
    "            ls_decision_tree.append(part_data[labels].unique()[0])\n",
    "    return(ls_decision_tree)\n"
   ]
  },
  {
   "cell_type": "code",
   "execution_count": 52,
   "metadata": {},
   "outputs": [
    {
     "data": {
      "text/plain": [
       "['outlook',\n",
       " 'overcast',\n",
       " 'yes',\n",
       " 'rainy',\n",
       " 'windy',\n",
       " False,\n",
       " 'yes',\n",
       " True,\n",
       " 'no',\n",
       " 'sunny',\n",
       " 'humidity',\n",
       " 'high',\n",
       " 'no',\n",
       " 'normal',\n",
       " 'yes']"
      ]
     },
     "execution_count": 52,
     "metadata": {},
     "output_type": "execute_result"
    }
   ],
   "source": [
    "decision_tree(data,\"play\")"
   ]
  },
  {
   "cell_type": "code",
   "execution_count": 53,
   "metadata": {},
   "outputs": [],
   "source": [
    "Graph = decision_tree(data,\"play\")"
   ]
  },
  {
   "cell_type": "code",
   "execution_count": 57,
   "metadata": {},
   "outputs": [],
   "source": [
    "from anytree import Node, RenderTree"
   ]
  },
  {
   "cell_type": "code",
   "execution_count": 58,
   "metadata": {},
   "outputs": [],
   "source": [
    "def tree(root,labels):\n",
    "        child=[\"\"]*len(root)\n",
    "        child[0]=Node(name=root[0])\n",
    "        j=0\n",
    "        k=0\n",
    "        for i in range(1,len(root)):\n",
    "                if(i==1):\n",
    "                    child[i]=Node(name=root[i],parent=child[0])\n",
    "                else:\n",
    "                    if(root[i-1] in labels):\n",
    "                        j=j+2\n",
    "                        k=k+1\n",
    "                        #print(i-j-k,root[i])\n",
    "                        child[i]=Node(name=root[i],parent=child[i-j-k])\n",
    "                    else:\n",
    "                        #print(i-j-k,root[i])\n",
    "                        child[i]=Node(name=root[i],parent=child[i-1]) \n",
    "            \n",
    "        for pre,fill,node in RenderTree(child[0]):\n",
    "            print(pre, node.name)"
   ]
  },
  {
   "cell_type": "code",
   "execution_count": 56,
   "metadata": {},
   "outputs": [
    {
     "name": "stdout",
     "output_type": "stream",
     "text": [
      " outlook\n",
      "├──  overcast\n",
      "│   ├──  yes\n",
      "│   ├──  True\n",
      "│   │   └──  no\n",
      "│   └──  normal\n",
      "│       └──  yes\n",
      "├──  rainy\n",
      "│   └──  windy\n",
      "│       └──  False\n",
      "│           └──  yes\n",
      "└──  sunny\n",
      "    └──  humidity\n",
      "        └──  high\n",
      "            └──  no\n"
     ]
    }
   ],
   "source": [
    "tree(['outlook',\n",
    " 'overcast',\n",
    " 'yes',\n",
    " 'rainy',\n",
    " 'windy',\n",
    " False,\n",
    " 'yes',\n",
    " True,\n",
    " 'no',\n",
    " 'sunny',\n",
    " 'humidity',\n",
    " 'high',\n",
    " 'no',\n",
    " 'normal',\n",
    " 'yes'],['yes',\"no\"])"
   ]
  }
 ],
 "metadata": {
  "kernelspec": {
   "display_name": "Python 3",
   "language": "python",
   "name": "python3"
  },
  "language_info": {
   "codemirror_mode": {
    "name": "ipython",
    "version": 3
   },
   "file_extension": ".py",
   "mimetype": "text/x-python",
   "name": "python",
   "nbconvert_exporter": "python",
   "pygments_lexer": "ipython3",
   "version": "3.7.8"
  }
 },
 "nbformat": 4,
 "nbformat_minor": 4
}
